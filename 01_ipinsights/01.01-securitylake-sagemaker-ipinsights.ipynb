{
 "cells": [
  {
   "cell_type": "markdown",
   "id": "0c8b537a-28d4-45d0-ba39-fb092f623db9",
   "metadata": {
    "tags": []
   },
   "source": [
    "# Amazon SageMaker Anomaly Detection using Amazon Security Lake data"
   ]
  },
  {
   "cell_type": "markdown",
   "id": "dfad9376-582b-451a-87a3-827a93e4504f",
   "metadata": {},
   "source": [
    "## 1. Introduction"
   ]
  },
  {
   "cell_type": "markdown",
   "id": "d78a3791-d0d0-45b2-bfe5-db2a3806f525",
   "metadata": {},
   "source": [
    "In this sample notebook, you will train, build, and deploy a model using the IP Insights algorithm and Amazon Security Lake Data. You will query the Amazon Security Lake managed AWS LakeFormation table. You will perform data transformation on the results from the VPC Flow Log and Route 53 table. Train an IP Insights model with this data. Deploy your model to a SageMaker endpoint and ultimately test your model."
   ]
  },
  {
   "cell_type": "code",
   "execution_count": null,
   "id": "586bd167-595d-4975-bfc9-50bde3e05d1b",
   "metadata": {},
   "outputs": [],
   "source": [
    "# 1. install \n",
    "%conda install openjdk -y\n",
    "%pip install pyspark \n",
    "%pip install sagemaker_pyspark\n",
    "%pip install awswrangler"
   ]
  },
  {
   "cell_type": "markdown",
   "id": "38e5de33-c86d-4991-b05e-8df82aba7261",
   "metadata": {},
   "source": [
    "## 2. Setup your environment"
   ]
  },
  {
   "cell_type": "code",
   "execution_count": 23,
   "id": "d50070b7-0559-4e64-9df6-84c32c95fc72",
   "metadata": {
    "tags": []
   },
   "outputs": [
    {
     "name": "stderr",
     "output_type": "stream",
     "text": [
      "INFO:botocore.credentials:Found credentials from IAM Role: BaseNotebookInstanceEc2InstanceRole\n",
      "INFO:botocore.credentials:Found credentials from IAM Role: BaseNotebookInstanceEc2InstanceRole\n",
      "INFO:botocore.credentials:Found credentials from IAM Role: BaseNotebookInstanceEc2InstanceRole\n"
     ]
    },
    {
     "name": "stdout",
     "output_type": "stream",
     "text": [
      "Training input/output will be stored in: s3://sagemaker-us-east-1-028667762794/sagemaker/ipinsights-vpcflowlogs\n",
      "Session timestamp: 09_22_2023_14_07_21\n"
     ]
    }
   ],
   "source": [
    "# 2. setup, config .. imports\n",
    "\n",
    "import boto3\n",
    "import botocore\n",
    "import os\n",
    "import sagemaker\n",
    "import pandas as pd\n",
    "import awswrangler as wr\n",
    "\n",
    "from datetime import datetime\n",
    "from pyspark import SparkContext, SparkConf\n",
    "from pyspark.sql import SparkSession\n",
    "\n",
    "dt_today = datetime.now()\n",
    "str_today = dt_today.strftime(\"%m_%d_%Y_%H_%M_%S\")\n",
    "\n",
    "bucket = sagemaker.Session().default_bucket()\n",
    "prefix = \"sagemaker/ipinsights-vpcflowlogs\"\n",
    "execution_role = sagemaker.get_execution_role()\n",
    "region = boto3.Session().region_name\n",
    "seclakeregion = region.replace(\"-\",\"_\")\n",
    "\n",
    "# check if the bucket exists\n",
    "try:\n",
    "    boto3.Session().client(\"s3\").head_bucket(Bucket=bucket)\n",
    "except botocore.exceptions.ParamValidationError as e:\n",
    "    print(\n",
    "        \"You either forgot to specify your S3 bucket or you gave your bucket an invalid name!\"\n",
    "    )\n",
    "except botocore.exceptions.ClientError as e:\n",
    "    if e.response[\"Error\"][\"Code\"] == \"403\":\n",
    "        print(f\"Hey! You don't have permission to access the bucket, {bucket}.\")\n",
    "    elif e.response[\"Error\"][\"Code\"] == \"404\":\n",
    "        print(f\"Hey! Your bucket, {bucket}, doesn't exist!\")\n",
    "    else:\n",
    "        raise\n",
    "else:\n",
    "    print(f\"Training input/output will be stored in: s3://{bucket}/{prefix}\")\n",
    "print(f\"Session timestamp: {str_today}\")"
   ]
  },
  {
   "cell_type": "markdown",
   "id": "a1f96dbc-b9c9-474b-bda0-24db3b70d803",
   "metadata": {},
   "source": [
    "## 3. Query and transform VPC Flow Log data"
   ]
  },
  {
   "cell_type": "code",
   "execution_count": 24,
   "id": "b90a0560-11ab-41cd-a8eb-2a0ba3caa71b",
   "metadata": {
    "tags": []
   },
   "outputs": [
    {
     "name": "stderr",
     "output_type": "stream",
     "text": [
      "INFO:botocore.credentials:Found credentials from IAM Role: BaseNotebookInstanceEc2InstanceRole\n",
      "INFO:botocore.credentials:Found credentials from IAM Role: BaseNotebookInstanceEc2InstanceRole\n",
      "INFO:botocore.credentials:Found credentials from IAM Role: BaseNotebookInstanceEc2InstanceRole\n",
      "INFO:botocore.credentials:Found credentials from IAM Role: BaseNotebookInstanceEc2InstanceRole\n",
      "INFO:botocore.credentials:Found credentials from IAM Role: BaseNotebookInstanceEc2InstanceRole\n",
      "INFO:botocore.credentials:Found credentials from IAM Role: BaseNotebookInstanceEc2InstanceRole\n",
      "INFO:botocore.credentials:Found credentials from IAM Role: BaseNotebookInstanceEc2InstanceRole\n",
      "INFO:botocore.credentials:Found credentials from IAM Role: BaseNotebookInstanceEc2InstanceRole\n",
      "INFO:botocore.credentials:Found credentials from IAM Role: BaseNotebookInstanceEc2InstanceRole\n",
      "INFO:botocore.credentials:Found credentials from IAM Role: BaseNotebookInstanceEc2InstanceRole\n",
      "INFO:botocore.credentials:Found credentials from IAM Role: BaseNotebookInstanceEc2InstanceRole\n"
     ]
    },
    {
     "data": {
      "text/html": [
       "<div>\n",
       "<style scoped>\n",
       "    .dataframe tbody tr th:only-of-type {\n",
       "        vertical-align: middle;\n",
       "    }\n",
       "\n",
       "    .dataframe tbody tr th {\n",
       "        vertical-align: top;\n",
       "    }\n",
       "\n",
       "    .dataframe thead th {\n",
       "        text-align: right;\n",
       "    }\n",
       "</style>\n",
       "<table border=\"1\" class=\"dataframe\">\n",
       "  <thead>\n",
       "    <tr style=\"text-align: right;\">\n",
       "      <th></th>\n",
       "      <th>instance_id</th>\n",
       "      <th>sourceip</th>\n",
       "    </tr>\n",
       "  </thead>\n",
       "  <tbody>\n",
       "    <tr>\n",
       "      <th>0</th>\n",
       "      <td>i-0caa75b1c88bf0f16</td>\n",
       "      <td>10.0.103.247</td>\n",
       "    </tr>\n",
       "    <tr>\n",
       "      <th>1</th>\n",
       "      <td>i-0caa75b1c88bf0f16</td>\n",
       "      <td>10.0.103.247</td>\n",
       "    </tr>\n",
       "    <tr>\n",
       "      <th>2</th>\n",
       "      <td>i-0caa75b1c88bf0f16</td>\n",
       "      <td>10.0.103.247</td>\n",
       "    </tr>\n",
       "    <tr>\n",
       "      <th>3</th>\n",
       "      <td>i-0caa75b1c88bf0f16</td>\n",
       "      <td>10.0.103.39</td>\n",
       "    </tr>\n",
       "    <tr>\n",
       "      <th>4</th>\n",
       "      <td>i-0caa75b1c88bf0f16</td>\n",
       "      <td>10.0.103.247</td>\n",
       "    </tr>\n",
       "  </tbody>\n",
       "</table>\n",
       "</div>"
      ],
      "text/plain": [
       "           instance_id      sourceip\n",
       "0  i-0caa75b1c88bf0f16  10.0.103.247\n",
       "1  i-0caa75b1c88bf0f16  10.0.103.247\n",
       "2  i-0caa75b1c88bf0f16  10.0.103.247\n",
       "3  i-0caa75b1c88bf0f16   10.0.103.39\n",
       "4  i-0caa75b1c88bf0f16  10.0.103.247"
      ]
     },
     "execution_count": 24,
     "metadata": {},
     "output_type": "execute_result"
    }
   ],
   "source": [
    "# 3. query VPC flow logs from security lake glue table\n",
    "ocsf_df = wr.athena.read_sql_query(\"SELECT src_endpoint.instance_uid as instance_id, src_endpoint.ip as sourceip FROM amazon_security_lake_table_\"+seclakeregion+\"_vpc_flow_1_0 WHERE src_endpoint.ip IS NOT NULL AND src_endpoint.instance_uid IS NOT NULL AND src_endpoint.instance_uid != '-' AND src_endpoint.ip != '-'\", database=\"amazon_security_lake_glue_db_us_east_1\", ctas_approach=False, unload_approach=True, s3_output=f\"s3://{bucket}/unload/parquet/updated/{str_today}\")\n",
    "ocsf_df.head()"
   ]
  },
  {
   "cell_type": "markdown",
   "id": "66641692-1e39-41af-8a37-8de443ad6bff",
   "metadata": {},
   "source": [
    "## 4. Query and transform Route53 Log data"
   ]
  },
  {
   "cell_type": "code",
   "execution_count": 25,
   "id": "74a1447b-d839-43dd-a4c1-e1a5c0afda3e",
   "metadata": {
    "tags": []
   },
   "outputs": [
    {
     "name": "stderr",
     "output_type": "stream",
     "text": [
      "INFO:botocore.credentials:Found credentials from IAM Role: BaseNotebookInstanceEc2InstanceRole\n",
      "INFO:botocore.credentials:Found credentials from IAM Role: BaseNotebookInstanceEc2InstanceRole\n",
      "INFO:botocore.credentials:Found credentials from IAM Role: BaseNotebookInstanceEc2InstanceRole\n",
      "INFO:botocore.credentials:Found credentials from IAM Role: BaseNotebookInstanceEc2InstanceRole\n",
      "INFO:botocore.credentials:Found credentials from IAM Role: BaseNotebookInstanceEc2InstanceRole\n",
      "INFO:botocore.credentials:Found credentials from IAM Role: BaseNotebookInstanceEc2InstanceRole\n",
      "INFO:botocore.credentials:Found credentials from IAM Role: BaseNotebookInstanceEc2InstanceRole\n",
      "INFO:botocore.credentials:Found credentials from IAM Role: BaseNotebookInstanceEc2InstanceRole\n",
      "INFO:botocore.credentials:Found credentials from IAM Role: BaseNotebookInstanceEc2InstanceRole\n"
     ]
    },
    {
     "data": {
      "text/html": [
       "<div>\n",
       "<style scoped>\n",
       "    .dataframe tbody tr th:only-of-type {\n",
       "        vertical-align: middle;\n",
       "    }\n",
       "\n",
       "    .dataframe tbody tr th {\n",
       "        vertical-align: top;\n",
       "    }\n",
       "\n",
       "    .dataframe thead th {\n",
       "        text-align: right;\n",
       "    }\n",
       "</style>\n",
       "<table border=\"1\" class=\"dataframe\">\n",
       "  <thead>\n",
       "    <tr style=\"text-align: right;\">\n",
       "      <th></th>\n",
       "      <th>instance_id</th>\n",
       "      <th>sourceip</th>\n",
       "    </tr>\n",
       "  </thead>\n",
       "  <tbody>\n",
       "    <tr>\n",
       "      <th>0</th>\n",
       "      <td>i-0b4ef7e8aac82d605</td>\n",
       "      <td>10.0.1.130</td>\n",
       "    </tr>\n",
       "    <tr>\n",
       "      <th>1</th>\n",
       "      <td>i-0b4ef7e8aac82d605</td>\n",
       "      <td>10.0.1.130</td>\n",
       "    </tr>\n",
       "    <tr>\n",
       "      <th>2</th>\n",
       "      <td>i-0b4ef7e8aac82d605</td>\n",
       "      <td>10.0.1.130</td>\n",
       "    </tr>\n",
       "    <tr>\n",
       "      <th>3</th>\n",
       "      <td>i-0caa75b1c88bf0f16</td>\n",
       "      <td>10.0.103.247</td>\n",
       "    </tr>\n",
       "    <tr>\n",
       "      <th>4</th>\n",
       "      <td>i-0caa75b1c88bf0f16</td>\n",
       "      <td>10.0.103.247</td>\n",
       "    </tr>\n",
       "  </tbody>\n",
       "</table>\n",
       "</div>"
      ],
      "text/plain": [
       "           instance_id      sourceip\n",
       "0  i-0b4ef7e8aac82d605    10.0.1.130\n",
       "1  i-0b4ef7e8aac82d605    10.0.1.130\n",
       "2  i-0b4ef7e8aac82d605    10.0.1.130\n",
       "3  i-0caa75b1c88bf0f16  10.0.103.247\n",
       "4  i-0caa75b1c88bf0f16  10.0.103.247"
      ]
     },
     "execution_count": 25,
     "metadata": {},
     "output_type": "execute_result"
    }
   ],
   "source": [
    "# 4. query Route53 logs from security lake glue table\n",
    "ocsf_rt_53_df = wr.athena.read_sql_query(\"SELECT src_endpoint.instance_uid as instance_id, src_endpoint.ip as sourceip FROM amazon_security_lake_table_\"+seclakeregion+\"_route53_1_0 WHERE src_endpoint.ip IS NOT NULL AND src_endpoint.instance_uid IS NOT NULL AND src_endpoint.instance_uid != '-' AND src_endpoint.ip != '-'\", database=\"amazon_security_lake_glue_db_us_east_1\", ctas_approach=False, unload_approach=True, s3_output=f\"s3://{bucket}/unload/rt53parquet/{str_today}\")\n",
    "ocsf_rt_53_df.head()\n"
   ]
  },
  {
   "cell_type": "markdown",
   "id": "63a21808-dd74-4f6d-9bff-9ab019eaaf7c",
   "metadata": {},
   "source": [
    "## 5: Combine VPC Flow Log and Route 53 data"
   ]
  },
  {
   "cell_type": "code",
   "execution_count": 12,
   "id": "e963b943-af26-465e-ad52-cc5f64c28f3e",
   "metadata": {
    "tags": []
   },
   "outputs": [],
   "source": [
    "ocsf_complete = pd.concat([ocsf_df, ocsf_rt_53_df], ignore_index=True)"
   ]
  },
  {
   "cell_type": "markdown",
   "id": "bf5a8c49-80b5-4475-98ad-f0a2cb27df91",
   "metadata": {},
   "source": [
    "## 6. Download image and train IP Insight model"
   ]
  },
  {
   "cell_type": "code",
   "execution_count": 13,
   "id": "b3e3c64d-d03b-4dfb-b00d-5e2f3cc84e5b",
   "metadata": {
    "tags": []
   },
   "outputs": [
    {
     "data": {
      "text/plain": [
       "{'paths': ['s3://sagemaker-us-east-1-028667762794/sagemaker/ipinsights-vpcflowlogs/training/training_input.csv'],\n",
       " 'partitions_values': {}}"
      ]
     },
     "execution_count": 13,
     "metadata": {},
     "output_type": "execute_result"
    }
   ],
   "source": [
    "# 6 setup training data channel and IPInsights algorithm Docker image\n",
    "training_path = f\"s3://{bucket}/{prefix}/training/training_input.csv\"\n",
    "wr.s3.to_csv(ocsf_complete, training_path, header=False, index=False)"
   ]
  },
  {
   "cell_type": "code",
   "execution_count": 14,
   "id": "cae1cffe-dfeb-4769-bb6d-7bf61166f21f",
   "metadata": {
    "tags": []
   },
   "outputs": [],
   "source": [
    "from sagemaker.amazon.amazon_estimator import image_uris\n",
    "\n",
    "image = sagemaker.image_uris.get_training_image_uri(boto3.Session().region_name,\"ipinsights\")"
   ]
  },
  {
   "cell_type": "code",
   "execution_count": 15,
   "id": "92705cce-8ed1-4eff-8b9f-e507c1c9c941",
   "metadata": {
    "tags": []
   },
   "outputs": [],
   "source": [
    "# change instance type depending on size of input training\n",
    "ip_insights = sagemaker.estimator.Estimator(\n",
    "    image,\n",
    "    execution_role,\n",
    "    instance_count=1,\n",
    "    instance_type=\"ml.m5.large\",\n",
    "    output_path=f\"s3://{bucket}/{prefix}/output\",\n",
    "    sagemaker_session=sagemaker.Session(),\n",
    ")\n",
    "\n",
    "# change hyperparameters depending on size of input training and desired training constraints\n",
    "ip_insights.set_hyperparameters(\n",
    "    num_entity_vectors=\"20000\",\n",
    "    random_negative_sampling_rate=\"5\",\n",
    "    vector_dim=\"128\",\n",
    "    mini_batch_size=\"1000\",\n",
    "    epochs=\"5\",\n",
    "    learning_rate=\"0.01\",\n",
    ")"
   ]
  },
  {
   "cell_type": "code",
   "execution_count": 16,
   "id": "70d2be81-740f-4752-ad07-1591c36ac2c9",
   "metadata": {
    "tags": []
   },
   "outputs": [
    {
     "name": "stderr",
     "output_type": "stream",
     "text": [
      "The class sagemaker.session.s3_input has been renamed in sagemaker>=2.\n",
      "See: https://sagemaker.readthedocs.io/en/stable/v2.html for details.\n"
     ]
    }
   ],
   "source": [
    "input_data = {\n",
    "    \"train\": sagemaker.session.s3_input(training_path, content_type=\"text/csv\")\n",
    "}"
   ]
  },
  {
   "cell_type": "code",
   "execution_count": 18,
   "id": "c6d21af5-8b25-4ca0-a621-40cc358afdd1",
   "metadata": {
    "tags": []
   },
   "outputs": [
    {
     "name": "stderr",
     "output_type": "stream",
     "text": [
      "INFO:sagemaker:Creating training-job with name: ipinsights-2023-09-21-16-21-20-896\n"
     ]
    },
    {
     "name": "stdout",
     "output_type": "stream",
     "text": [
      "2023-09-21 16:21:21 Starting - Starting the training job...\n",
      "2023-09-21 16:21:35 Starting - Preparing the instances for training......\n",
      "2023-09-21 16:22:47 Downloading - Downloading input data...\n",
      "2023-09-21 16:23:22 Training - Downloading the training image........................\n",
      "2023-09-21 16:26:58 Training - Training image download completed. Training in progress.........................................................................\n",
      "2023-09-21 16:39:12 Uploading - Uploading generated training model\n",
      "2023-09-21 16:39:12 Completed - Training job completed\n",
      "..Training seconds: 986\n",
      "Billable seconds: 986\n"
     ]
    }
   ],
   "source": [
    "# train and fit IPInsights model based on training data\n",
    "\n",
    "ip_insights.fit(input_data)"
   ]
  },
  {
   "cell_type": "markdown",
   "id": "98df271d-918e-4be5-93cc-b38927388811",
   "metadata": {},
   "source": [
    "## 7. Deploy Sagemaker Endpoint"
   ]
  },
  {
   "cell_type": "code",
   "execution_count": 19,
   "id": "a0a35ad3-ec7e-4a18-bae2-ef7092753d84",
   "metadata": {
    "tags": []
   },
   "outputs": [
    {
     "name": "stderr",
     "output_type": "stream",
     "text": [
      "INFO:sagemaker:Creating model with name: ipinsights-2023-09-21-16-40-26-825\n",
      "INFO:sagemaker:Creating endpoint-config with name ipinsights-2023-09-21-16-40-26-825\n",
      "INFO:sagemaker:Creating endpoint with name ipinsights-2023-09-21-16-40-26-825\n"
     ]
    },
    {
     "name": "stdout",
     "output_type": "stream",
     "text": [
      "-----------!"
     ]
    },
    {
     "name": "stderr",
     "output_type": "stream",
     "text": [
      "WARNING:sagemaker.deprecations:The endpoint attribute has been renamed in sagemaker>=2.\n",
      "See: https://sagemaker.readthedocs.io/en/stable/v2.html for details.\n"
     ]
    },
    {
     "name": "stdout",
     "output_type": "stream",
     "text": [
      "Endpoint name: ipinsights-2023-09-21-16-40-26-825\n"
     ]
    }
   ],
   "source": [
    "# deploy trained IPInsights model to SageMaker endpoint.  Again, change instance_type and autoscaling based on your scenario\n",
    "predictor = ip_insights.deploy(initial_instance_count=1, instance_type=\"ml.m5.large\")\n",
    "print(f\"Endpoint name: {predictor.endpoint}\")"
   ]
  },
  {
   "cell_type": "markdown",
   "id": "5832a912-1978-4d0b-a2db-82a2c903d71d",
   "metadata": {},
   "source": [
    "## 8. Submit network data for inference to the endpoint"
   ]
  },
  {
   "cell_type": "markdown",
   "id": "2f5a9fa9-955b-4899-b7d9-3ce436108574",
   "metadata": {},
   "source": [
    "This portion of code assumes you have test data saved in a local folder or a S3 bucket. \n",
    "\n",
    "The test data is simply a CSV file, where the first columns are instance ids and the second columns are IPs. \n",
    "\n",
    "It is recommended to test valid and invalid data to see the results of the model"
   ]
  },
  {
   "cell_type": "code",
   "execution_count": 28,
   "id": "87b5efd9-b5c6-4ab1-93a9-d0e8ffde1b1f",
   "metadata": {},
   "outputs": [
    {
     "data": {
      "text/html": [
       "<div>\n",
       "<style scoped>\n",
       "    .dataframe tbody tr th:only-of-type {\n",
       "        vertical-align: middle;\n",
       "    }\n",
       "\n",
       "    .dataframe tbody tr th {\n",
       "        vertical-align: top;\n",
       "    }\n",
       "\n",
       "    .dataframe thead th {\n",
       "        text-align: right;\n",
       "    }\n",
       "</style>\n",
       "<table border=\"1\" class=\"dataframe\">\n",
       "  <thead>\n",
       "    <tr style=\"text-align: right;\">\n",
       "      <th></th>\n",
       "      <th>0</th>\n",
       "      <th>1</th>\n",
       "    </tr>\n",
       "  </thead>\n",
       "  <tbody>\n",
       "    <tr>\n",
       "      <th>0</th>\n",
       "      <td>i-0dee580a031e28c14</td>\n",
       "      <td>10.0.2.125</td>\n",
       "    </tr>\n",
       "    <tr>\n",
       "      <th>1</th>\n",
       "      <td>i-05891769c3b7b2879</td>\n",
       "      <td>10.0.3.238</td>\n",
       "    </tr>\n",
       "    <tr>\n",
       "      <th>2</th>\n",
       "      <td>i-0dee580a031e28c14</td>\n",
       "      <td>10.0.2.145</td>\n",
       "    </tr>\n",
       "    <tr>\n",
       "      <th>3</th>\n",
       "      <td>i-05891769c3b7b2879</td>\n",
       "      <td>10.0.10.11</td>\n",
       "    </tr>\n",
       "  </tbody>\n",
       "</table>\n",
       "</div>"
      ],
      "text/plain": [
       "                     0           1\n",
       "0  i-0dee580a031e28c14  10.0.2.125\n",
       "1  i-05891769c3b7b2879  10.0.3.238\n",
       "2  i-0dee580a031e28c14  10.0.2.145\n",
       "3  i-05891769c3b7b2879  10.0.10.11"
      ]
     },
     "execution_count": 28,
     "metadata": {},
     "output_type": "execute_result"
    }
   ],
   "source": [
    "# read file\n",
    "# file @ S3 approach\n",
    "# inference_df = wr.s3.read_csv(f's3://{bucket}/{prefix}/inference/testdata.csv')\n",
    "\n",
    "# file @ local approach\n",
    "inference_df = wr.pandas.read_csv('../data/testdata-ipinsights.csv',header=None)\n",
    "inference_df"
   ]
  },
  {
   "cell_type": "code",
   "execution_count": 30,
   "id": "f4ee1e9e-0ce7-4afc-9987-adc0f70737f7",
   "metadata": {},
   "outputs": [
    {
     "name": "stdout",
     "output_type": "stream",
     "text": [
      "i-0dee580a031e28c14,10.0.2.125\n",
      "i-05891769c3b7b2879,10.0.3.238\n",
      "i-0dee580a031e28c14,10.0.2.145\n",
      "i-05891769c3b7b2879,10.0.10.11\n",
      "\n"
     ]
    }
   ],
   "source": [
    "# prepare bulk request from data frame\n",
    "import io\n",
    "from io import StringIO\n",
    "\n",
    "csv_file = io.StringIO()\n",
    "inference_csv = inference_df.to_csv(csv_file, sep=\",\", header=False, index=False)\n",
    "inference_request_payload = csv_file.getvalue()\n",
    "print(inference_request_payload)"
   ]
  },
  {
   "cell_type": "code",
   "execution_count": 31,
   "id": "76b08f24-6494-40f0-b6df-d24b79a72de0",
   "metadata": {},
   "outputs": [
    {
     "name": "stdout",
     "output_type": "stream",
     "text": [
      "b'{\"predictions\": [{\"dot_product\": -0.0025198650546371937}, {\"dot_product\": -0.012088463641703129}, {\"dot_product\": -0.005051907151937485}, {\"dot_product\": -0.016000129282474518}]}'\n"
     ]
    }
   ],
   "source": [
    "# invoke deployed SageMaker model using inference request payload\n",
    "inference_response = predictor.predict(\n",
    "    inference_request_payload,\n",
    "    initial_args={\"ContentType\":'text/csv'})\n",
    "\n",
    "# log response\n",
    "print(inference_response)"
   ]
  },
  {
   "cell_type": "markdown",
   "id": "1c6ccf46-bc37-44b3-9d4c-088bc160bdf9",
   "metadata": {},
   "source": [
    "## 9.Cleanup"
   ]
  },
  {
   "cell_type": "code",
   "execution_count": null,
   "id": "2bc02f9c-d3d7-4f14-8217-20e37a91ccce",
   "metadata": {},
   "outputs": [],
   "source": [
    "# delete endpoint if necessary to minimize costs\n",
    "predictor.delete_endpoint()"
   ]
  }
 ],
 "metadata": {
  "availableInstances": [
   {
    "_defaultOrder": 0,
    "_isFastLaunch": true,
    "category": "General purpose",
    "gpuNum": 0,
    "memoryGiB": 4,
    "name": "ml.t3.medium",
    "vcpuNum": 2
   },
   {
    "_defaultOrder": 1,
    "_isFastLaunch": false,
    "category": "General purpose",
    "gpuNum": 0,
    "memoryGiB": 8,
    "name": "ml.t3.large",
    "vcpuNum": 2
   },
   {
    "_defaultOrder": 2,
    "_isFastLaunch": false,
    "category": "General purpose",
    "gpuNum": 0,
    "memoryGiB": 16,
    "name": "ml.t3.xlarge",
    "vcpuNum": 4
   },
   {
    "_defaultOrder": 3,
    "_isFastLaunch": false,
    "category": "General purpose",
    "gpuNum": 0,
    "memoryGiB": 32,
    "name": "ml.t3.2xlarge",
    "vcpuNum": 8
   },
   {
    "_defaultOrder": 4,
    "_isFastLaunch": true,
    "category": "General purpose",
    "gpuNum": 0,
    "memoryGiB": 8,
    "name": "ml.m5.large",
    "vcpuNum": 2
   },
   {
    "_defaultOrder": 5,
    "_isFastLaunch": false,
    "category": "General purpose",
    "gpuNum": 0,
    "memoryGiB": 16,
    "name": "ml.m5.xlarge",
    "vcpuNum": 4
   },
   {
    "_defaultOrder": 6,
    "_isFastLaunch": false,
    "category": "General purpose",
    "gpuNum": 0,
    "memoryGiB": 32,
    "name": "ml.m5.2xlarge",
    "vcpuNum": 8
   },
   {
    "_defaultOrder": 7,
    "_isFastLaunch": false,
    "category": "General purpose",
    "gpuNum": 0,
    "memoryGiB": 64,
    "name": "ml.m5.4xlarge",
    "vcpuNum": 16
   },
   {
    "_defaultOrder": 8,
    "_isFastLaunch": false,
    "category": "General purpose",
    "gpuNum": 0,
    "memoryGiB": 128,
    "name": "ml.m5.8xlarge",
    "vcpuNum": 32
   },
   {
    "_defaultOrder": 9,
    "_isFastLaunch": false,
    "category": "General purpose",
    "gpuNum": 0,
    "memoryGiB": 192,
    "name": "ml.m5.12xlarge",
    "vcpuNum": 48
   },
   {
    "_defaultOrder": 10,
    "_isFastLaunch": false,
    "category": "General purpose",
    "gpuNum": 0,
    "memoryGiB": 256,
    "name": "ml.m5.16xlarge",
    "vcpuNum": 64
   },
   {
    "_defaultOrder": 11,
    "_isFastLaunch": false,
    "category": "General purpose",
    "gpuNum": 0,
    "memoryGiB": 384,
    "name": "ml.m5.24xlarge",
    "vcpuNum": 96
   },
   {
    "_defaultOrder": 12,
    "_isFastLaunch": false,
    "category": "General purpose",
    "gpuNum": 0,
    "memoryGiB": 8,
    "name": "ml.m5d.large",
    "vcpuNum": 2
   },
   {
    "_defaultOrder": 13,
    "_isFastLaunch": false,
    "category": "General purpose",
    "gpuNum": 0,
    "memoryGiB": 16,
    "name": "ml.m5d.xlarge",
    "vcpuNum": 4
   },
   {
    "_defaultOrder": 14,
    "_isFastLaunch": false,
    "category": "General purpose",
    "gpuNum": 0,
    "memoryGiB": 32,
    "name": "ml.m5d.2xlarge",
    "vcpuNum": 8
   },
   {
    "_defaultOrder": 15,
    "_isFastLaunch": false,
    "category": "General purpose",
    "gpuNum": 0,
    "memoryGiB": 64,
    "name": "ml.m5d.4xlarge",
    "vcpuNum": 16
   },
   {
    "_defaultOrder": 16,
    "_isFastLaunch": false,
    "category": "General purpose",
    "gpuNum": 0,
    "memoryGiB": 128,
    "name": "ml.m5d.8xlarge",
    "vcpuNum": 32
   },
   {
    "_defaultOrder": 17,
    "_isFastLaunch": false,
    "category": "General purpose",
    "gpuNum": 0,
    "memoryGiB": 192,
    "name": "ml.m5d.12xlarge",
    "vcpuNum": 48
   },
   {
    "_defaultOrder": 18,
    "_isFastLaunch": false,
    "category": "General purpose",
    "gpuNum": 0,
    "memoryGiB": 256,
    "name": "ml.m5d.16xlarge",
    "vcpuNum": 64
   },
   {
    "_defaultOrder": 19,
    "_isFastLaunch": false,
    "category": "General purpose",
    "gpuNum": 0,
    "memoryGiB": 384,
    "name": "ml.m5d.24xlarge",
    "vcpuNum": 96
   },
   {
    "_defaultOrder": 20,
    "_isFastLaunch": true,
    "category": "Compute optimized",
    "gpuNum": 0,
    "memoryGiB": 4,
    "name": "ml.c5.large",
    "vcpuNum": 2
   },
   {
    "_defaultOrder": 21,
    "_isFastLaunch": false,
    "category": "Compute optimized",
    "gpuNum": 0,
    "memoryGiB": 8,
    "name": "ml.c5.xlarge",
    "vcpuNum": 4
   },
   {
    "_defaultOrder": 22,
    "_isFastLaunch": false,
    "category": "Compute optimized",
    "gpuNum": 0,
    "memoryGiB": 16,
    "name": "ml.c5.2xlarge",
    "vcpuNum": 8
   },
   {
    "_defaultOrder": 23,
    "_isFastLaunch": false,
    "category": "Compute optimized",
    "gpuNum": 0,
    "memoryGiB": 32,
    "name": "ml.c5.4xlarge",
    "vcpuNum": 16
   },
   {
    "_defaultOrder": 24,
    "_isFastLaunch": false,
    "category": "Compute optimized",
    "gpuNum": 0,
    "memoryGiB": 72,
    "name": "ml.c5.9xlarge",
    "vcpuNum": 36
   },
   {
    "_defaultOrder": 25,
    "_isFastLaunch": false,
    "category": "Compute optimized",
    "gpuNum": 0,
    "memoryGiB": 96,
    "name": "ml.c5.12xlarge",
    "vcpuNum": 48
   },
   {
    "_defaultOrder": 26,
    "_isFastLaunch": false,
    "category": "Compute optimized",
    "gpuNum": 0,
    "memoryGiB": 144,
    "name": "ml.c5.18xlarge",
    "vcpuNum": 72
   },
   {
    "_defaultOrder": 27,
    "_isFastLaunch": false,
    "category": "Compute optimized",
    "gpuNum": 0,
    "memoryGiB": 192,
    "name": "ml.c5.24xlarge",
    "vcpuNum": 96
   },
   {
    "_defaultOrder": 28,
    "_isFastLaunch": true,
    "category": "Accelerated computing",
    "gpuNum": 1,
    "memoryGiB": 16,
    "name": "ml.g4dn.xlarge",
    "vcpuNum": 4
   },
   {
    "_defaultOrder": 29,
    "_isFastLaunch": false,
    "category": "Accelerated computing",
    "gpuNum": 1,
    "memoryGiB": 32,
    "name": "ml.g4dn.2xlarge",
    "vcpuNum": 8
   },
   {
    "_defaultOrder": 30,
    "_isFastLaunch": false,
    "category": "Accelerated computing",
    "gpuNum": 1,
    "memoryGiB": 64,
    "name": "ml.g4dn.4xlarge",
    "vcpuNum": 16
   },
   {
    "_defaultOrder": 31,
    "_isFastLaunch": false,
    "category": "Accelerated computing",
    "gpuNum": 1,
    "memoryGiB": 128,
    "name": "ml.g4dn.8xlarge",
    "vcpuNum": 32
   },
   {
    "_defaultOrder": 32,
    "_isFastLaunch": false,
    "category": "Accelerated computing",
    "gpuNum": 4,
    "memoryGiB": 192,
    "name": "ml.g4dn.12xlarge",
    "vcpuNum": 48
   },
   {
    "_defaultOrder": 33,
    "_isFastLaunch": false,
    "category": "Accelerated computing",
    "gpuNum": 1,
    "memoryGiB": 256,
    "name": "ml.g4dn.16xlarge",
    "vcpuNum": 64
   },
   {
    "_defaultOrder": 34,
    "_isFastLaunch": false,
    "category": "Accelerated computing",
    "gpuNum": 1,
    "memoryGiB": 61,
    "name": "ml.p3.2xlarge",
    "vcpuNum": 8
   },
   {
    "_defaultOrder": 35,
    "_isFastLaunch": false,
    "category": "Accelerated computing",
    "gpuNum": 4,
    "memoryGiB": 244,
    "name": "ml.p3.8xlarge",
    "vcpuNum": 32
   },
   {
    "_defaultOrder": 36,
    "_isFastLaunch": false,
    "category": "Accelerated computing",
    "gpuNum": 8,
    "memoryGiB": 488,
    "name": "ml.p3.16xlarge",
    "vcpuNum": 64
   },
   {
    "_defaultOrder": 37,
    "_isFastLaunch": false,
    "category": "Accelerated computing",
    "gpuNum": 8,
    "memoryGiB": 768,
    "name": "ml.p3dn.24xlarge",
    "vcpuNum": 96
   },
   {
    "_defaultOrder": 38,
    "_isFastLaunch": false,
    "category": "Memory Optimized",
    "gpuNum": 0,
    "memoryGiB": 16,
    "name": "ml.r5.large",
    "vcpuNum": 2
   },
   {
    "_defaultOrder": 39,
    "_isFastLaunch": false,
    "category": "Memory Optimized",
    "gpuNum": 0,
    "memoryGiB": 32,
    "name": "ml.r5.xlarge",
    "vcpuNum": 4
   },
   {
    "_defaultOrder": 40,
    "_isFastLaunch": false,
    "category": "Memory Optimized",
    "gpuNum": 0,
    "memoryGiB": 64,
    "name": "ml.r5.2xlarge",
    "vcpuNum": 8
   },
   {
    "_defaultOrder": 41,
    "_isFastLaunch": false,
    "category": "Memory Optimized",
    "gpuNum": 0,
    "memoryGiB": 128,
    "name": "ml.r5.4xlarge",
    "vcpuNum": 16
   },
   {
    "_defaultOrder": 42,
    "_isFastLaunch": false,
    "category": "Memory Optimized",
    "gpuNum": 0,
    "memoryGiB": 256,
    "name": "ml.r5.8xlarge",
    "vcpuNum": 32
   },
   {
    "_defaultOrder": 43,
    "_isFastLaunch": false,
    "category": "Memory Optimized",
    "gpuNum": 0,
    "memoryGiB": 384,
    "name": "ml.r5.12xlarge",
    "vcpuNum": 48
   },
   {
    "_defaultOrder": 44,
    "_isFastLaunch": false,
    "category": "Memory Optimized",
    "gpuNum": 0,
    "memoryGiB": 512,
    "name": "ml.r5.16xlarge",
    "vcpuNum": 64
   },
   {
    "_defaultOrder": 45,
    "_isFastLaunch": false,
    "category": "Memory Optimized",
    "gpuNum": 0,
    "memoryGiB": 768,
    "name": "ml.r5.24xlarge",
    "vcpuNum": 96
   },
   {
    "_defaultOrder": 46,
    "_isFastLaunch": false,
    "category": "Accelerated computing",
    "gpuNum": 1,
    "memoryGiB": 16,
    "name": "ml.g5.xlarge",
    "vcpuNum": 4
   },
   {
    "_defaultOrder": 47,
    "_isFastLaunch": false,
    "category": "Accelerated computing",
    "gpuNum": 1,
    "memoryGiB": 32,
    "name": "ml.g5.2xlarge",
    "vcpuNum": 8
   },
   {
    "_defaultOrder": 48,
    "_isFastLaunch": false,
    "category": "Accelerated computing",
    "gpuNum": 1,
    "memoryGiB": 64,
    "name": "ml.g5.4xlarge",
    "vcpuNum": 16
   },
   {
    "_defaultOrder": 49,
    "_isFastLaunch": false,
    "category": "Accelerated computing",
    "gpuNum": 1,
    "memoryGiB": 128,
    "name": "ml.g5.8xlarge",
    "vcpuNum": 32
   },
   {
    "_defaultOrder": 50,
    "_isFastLaunch": false,
    "category": "Accelerated computing",
    "gpuNum": 1,
    "memoryGiB": 256,
    "name": "ml.g5.16xlarge",
    "vcpuNum": 64
   },
   {
    "_defaultOrder": 51,
    "_isFastLaunch": false,
    "category": "Accelerated computing",
    "gpuNum": 4,
    "memoryGiB": 192,
    "name": "ml.g5.12xlarge",
    "vcpuNum": 48
   },
   {
    "_defaultOrder": 52,
    "_isFastLaunch": false,
    "category": "Accelerated computing",
    "gpuNum": 4,
    "memoryGiB": 384,
    "name": "ml.g5.24xlarge",
    "vcpuNum": 96
   },
   {
    "_defaultOrder": 53,
    "_isFastLaunch": false,
    "category": "Accelerated computing",
    "gpuNum": 8,
    "memoryGiB": 768,
    "name": "ml.g5.48xlarge",
    "vcpuNum": 192
   }
  ],
  "instance_type": "ml.m5.large",
  "kernelspec": {
   "display_name": "conda_python3",
   "language": "python",
   "name": "conda_python3"
  },
  "language_info": {
   "codemirror_mode": {
    "name": "ipython",
    "version": 3
   },
   "file_extension": ".py",
   "mimetype": "text/x-python",
   "name": "python",
   "nbconvert_exporter": "python",
   "pygments_lexer": "ipython3",
   "version": "3.10.10"
  }
 },
 "nbformat": 4,
 "nbformat_minor": 5
}
